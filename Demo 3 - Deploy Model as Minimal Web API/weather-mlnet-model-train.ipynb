{
 "cells": [
  {
   "cell_type": "code",
   "execution_count": 1,
   "metadata": {
    "dotnet_interactive": {
     "language": "csharp"
    }
   },
   "outputs": [
    {
     "data": {
      "text/html": "\r\n<div>\r\n    <div id='dotnet-interactive-this-cell-18968.Microsoft.DotNet.Interactive.Http.HttpPort' style='display: none'>\r\n        The below script needs to be able to find the current output cell; this is an easy method to get it.\r\n    </div>\r\n    <script type='text/javascript'>\r\nasync function probeAddresses(probingAddresses) {\r\n    function timeout(ms, promise) {\r\n        return new Promise(function (resolve, reject) {\r\n            setTimeout(function () {\r\n                reject(new Error('timeout'))\r\n            }, ms)\r\n            promise.then(resolve, reject)\r\n        })\r\n    }\r\n\r\n    if (Array.isArray(probingAddresses)) {\r\n        for (let i = 0; i < probingAddresses.length; i++) {\r\n\r\n            let rootUrl = probingAddresses[i];\r\n\r\n            if (!rootUrl.endsWith('/')) {\r\n                rootUrl = `${rootUrl}/`;\r\n            }\r\n\r\n            try {\r\n                let response = await timeout(1000, fetch(`${rootUrl}discovery`, {\r\n                    method: 'POST',\r\n                    cache: 'no-cache',\r\n                    mode: 'cors',\r\n                    timeout: 1000,\r\n                    headers: {\r\n                        'Content-Type': 'text/plain'\r\n                    },\r\n                    body: probingAddresses[i]\r\n                }));\r\n\r\n                if (response.status == 200) {\r\n                    return rootUrl;\r\n                }\r\n            }\r\n            catch (e) { }\r\n        }\r\n    }\r\n}\r\n\r\nfunction loadDotnetInteractiveApi() {\r\n    probeAddresses([\"http://172.23.160.1:1000/\", \"http://172.22.0.1:1000/\", \"http://192.168.1.223:1000/\", \"http://192.168.1.207:1000/\", \"http://100.64.42.110:1000/\", \"http://127.0.0.1:1000/\"])\r\n        .then((root) => {\r\n        // use probing to find host url and api resources\r\n        // load interactive helpers and language services\r\n        let dotnetInteractiveRequire = require.config({\r\n        context: '18968.Microsoft.DotNet.Interactive.Http.HttpPort',\r\n                paths:\r\n            {\r\n                'dotnet-interactive': `${root}resources`\r\n                }\r\n        }) || require;\r\n\r\n            window.dotnetInteractiveRequire = dotnetInteractiveRequire;\r\n\r\n            window.configureRequireFromExtension = function(extensionName, extensionCacheBuster) {\r\n                let paths = {};\r\n                paths[extensionName] = `${root}extensions/${extensionName}/resources/`;\r\n                \r\n                let internalRequire = require.config({\r\n                    context: extensionCacheBuster,\r\n                    paths: paths,\r\n                    urlArgs: `cacheBuster=${extensionCacheBuster}`\r\n                    }) || require;\r\n\r\n                return internalRequire\r\n            };\r\n        \r\n            dotnetInteractiveRequire([\r\n                    'dotnet-interactive/dotnet-interactive'\r\n                ],\r\n                function (dotnet) {\r\n                    dotnet.init(window);\r\n                },\r\n                function (error) {\r\n                    console.log(error);\r\n                }\r\n            );\r\n        })\r\n        .catch(error => {console.log(error);});\r\n    }\r\n\r\n// ensure `require` is available globally\r\nif ((typeof(require) !==  typeof(Function)) || (typeof(require.config) !== typeof(Function))) {\r\n    let require_script = document.createElement('script');\r\n    require_script.setAttribute('src', 'https://cdnjs.cloudflare.com/ajax/libs/require.js/2.3.6/require.min.js');\r\n    require_script.setAttribute('type', 'text/javascript');\r\n    \r\n    \r\n    require_script.onload = function() {\r\n        loadDotnetInteractiveApi();\r\n    };\r\n\r\n    document.getElementsByTagName('head')[0].appendChild(require_script);\r\n}\r\nelse {\r\n    loadDotnetInteractiveApi();\r\n}\r\n\r\n    </script>\r\n</div>"
     },
     "metadata": {},
     "output_type": "display_data"
    },
    {
     "data": {
      "text/plain": "Installed package Microsoft.ML.TimeSeries version 1.5.5"
     },
     "metadata": {},
     "output_type": "display_data"
    },
    {
     "data": {
      "text/plain": "Installed package Microsoft.ML version 1.5.5"
     },
     "metadata": {},
     "output_type": "display_data"
    }
   ],
   "source": [
    "#r \"nuget:Microsoft.ML,1.5.5\"\r\n",
    "#r \"nuget:Microsoft.ML.TimeSeries,1.5.5\""
   ]
  },
  {
   "cell_type": "code",
   "execution_count": 2,
   "metadata": {
    "dotnet_interactive": {
     "language": "csharp"
    }
   },
   "outputs": [],
   "source": [
    "using System;\r\n",
    "using System.Collections.Generic;\r\n",
    "using System.Linq;\r\n",
    "using Microsoft.ML;\r\n",
    "using Microsoft.ML.Data;\r\n",
    "using Microsoft.ML.Transforms.TimeSeries;"
   ]
  },
  {
   "cell_type": "markdown",
   "metadata": {},
   "source": [
    "## Model Input & Outpot Schema\r\n",
    "\r\n",
    "The `ModelInput` and `ModelOutput` classes define the data schema the model is trained on as well as the output generated by the model."
   ]
  },
  {
   "cell_type": "code",
   "execution_count": 3,
   "metadata": {
    "dotnet_interactive": {
     "language": "csharp"
    }
   },
   "outputs": [],
   "source": [
    "public class ModelInput\r\n",
    "{\r\n",
    "    [LoadColumn(6)]\r\n",
    "    public DateTime Date { get; set; }\r\n",
    "\r\n",
    "    [LoadColumn(7)]\r\n",
    "    public float MaxTemp { get; set; }\r\n",
    "}\r\n",
    "\r\n",
    "public class ModelOutput\r\n",
    "{\r\n",
    "\r\n",
    "    public float[] ForecastTemp { get; set; }\r\n",
    "\r\n",
    "    public float[] LowerBoundTemp { get; set; }\r\n",
    "\r\n",
    "    public float[] UpperBoundTemp { get; set; }\r\n",
    "}"
   ]
  },
  {
   "cell_type": "markdown",
   "metadata": {},
   "source": [
    "## Train"
   ]
  },
  {
   "cell_type": "markdown",
   "metadata": {},
   "source": [
    "### Initialize MLContext"
   ]
  },
  {
   "cell_type": "code",
   "execution_count": 4,
   "metadata": {
    "dotnet_interactive": {
     "language": "csharp"
    }
   },
   "outputs": [],
   "source": [
    "MLContext mlContext = new MLContext();"
   ]
  },
  {
   "cell_type": "markdown",
   "metadata": {},
   "source": [
    "### Load the data"
   ]
  },
  {
   "cell_type": "code",
   "execution_count": 5,
   "metadata": {
    "dotnet_interactive": {
     "language": "csharp"
    }
   },
   "outputs": [],
   "source": [
    "var dataPath = \"Data/seattle-10yr.csv\";\r\n",
    "var dataView = mlContext.Data.LoadFromTextFile<ModelInput>(dataPath, hasHeader:true, separatorChar:',');\r\n"
   ]
  },
  {
   "cell_type": "markdown",
   "metadata": {
    "dotnet_interactive": {
     "language": "markdown"
    }
   },
   "source": [
    "### Split into train and test sets"
   ]
  },
  {
   "cell_type": "code",
   "execution_count": 6,
   "metadata": {
    "dotnet_interactive": {
     "language": "csharp"
    }
   },
   "outputs": [],
   "source": [
    "var data = mlContext.Data.CreateEnumerable<ModelInput>(dataView, reuseRowObject: false);\r\n",
    "var rowCount = data.Count();\r\n",
    "var split = (int) (rowCount / 2f);"
   ]
  },
  {
   "cell_type": "code",
   "execution_count": 7,
   "metadata": {
    "dotnet_interactive": {
     "language": "csharp"
    }
   },
   "outputs": [],
   "source": [
    "IDataView trainingDataView = mlContext.Data.LoadFromEnumerable(data.Take(split));\r\n",
    "IDataView testDataView = mlContext.Data.LoadFromEnumerable(data.TakeLast(split-1));"
   ]
  },
  {
   "cell_type": "markdown",
   "metadata": {},
   "source": [
    "### Build model"
   ]
  },
  {
   "cell_type": "code",
   "execution_count": 8,
   "metadata": {
    "dotnet_interactive": {
     "language": "csharp"
    }
   },
   "outputs": [],
   "source": [
    "var maxTempEstimator = mlContext.Forecasting.ForecastBySsa(\r\n",
    "    outputColumnName: \"ForecastTemp\",\r\n",
    "    inputColumnName: \"MaxTemp\",\r\n",
    "    windowSize: 5,\r\n",
    "    seriesLength: 30,\r\n",
    "    trainSize: 4027,\r\n",
    "    horizon: 5,\r\n",
    "    confidenceLevel: 0.90f,\r\n",
    "    confidenceLowerBoundColumn: \"LowerBoundTemp\",\r\n",
    "    confidenceUpperBoundColumn: \"UpperBoundTemp\");"
   ]
  },
  {
   "cell_type": "code",
   "execution_count": 9,
   "metadata": {
    "dotnet_interactive": {
     "language": "csharp"
    }
   },
   "outputs": [],
   "source": [
    "ITransformer maxTempModel = maxTempEstimator.Fit(trainingDataView);"
   ]
  },
  {
   "cell_type": "markdown",
   "metadata": {},
   "source": [
    "## Evaluate the model"
   ]
  },
  {
   "cell_type": "code",
   "execution_count": 10,
   "metadata": {
    "dotnet_interactive": {
     "language": "csharp"
    }
   },
   "outputs": [],
   "source": [
    "IDataView predictions = maxTempModel.Transform(testDataView);"
   ]
  },
  {
   "cell_type": "code",
   "execution_count": 11,
   "metadata": {
    "dotnet_interactive": {
     "language": "csharp"
    }
   },
   "outputs": [],
   "source": [
    "var actual = \r\n",
    "    mlContext.Data.CreateEnumerable<ModelInput>(testDataView, reuseRowObject: true)\r\n",
    "        .Select(observed => new {Date= observed.Date, ActualTemp= observed.MaxTemp});\r\n",
    "\r\n",
    "var forecast = \r\n",
    "    mlContext.Data.CreateEnumerable<ModelOutput>(predictions, reuseRowObject: true)\r\n",
    "        .Select(forecast => new {ForecastTemp= forecast.ForecastTemp[0], UpperBound=forecast.UpperBoundTemp[0], LowerBound = forecast.LowerBoundTemp[0]});"
   ]
  },
  {
   "cell_type": "code",
   "execution_count": 12,
   "metadata": {
    "dotnet_interactive": {
     "language": "csharp"
    }
   },
   "outputs": [],
   "source": [
    "var combined = actual.Zip(forecast,(actualValue,forecastValue) => \r\n",
    "    new \r\n",
    "    {\r\n",
    "        Date=actualValue.Date,\r\n",
    "        ActualTemp=actualValue.ActualTemp,\r\n",
    "        ForecastTemp=forecastValue.ForecastTemp,\r\n",
    "        UpperBound=forecastValue.UpperBound,\r\n",
    "        LowerBound=forecastValue.LowerBound\r\n",
    "    });"
   ]
  },
  {
   "cell_type": "code",
   "execution_count": 13,
   "metadata": {
    "dotnet_interactive": {
     "language": "csharp"
    }
   },
   "outputs": [
    {
     "data": {
      "text/html": "<table><thead><tr><th><i>index</i></th><th>Date</th><th>ActualTemp</th><th>ForecastTemp</th><th>UpperBound</th><th>LowerBound</th></tr></thead><tbody><tr><td>0</td><td><span>2015-10-08 00:00:00Z</span></td><td><div class=\"dni-plaintext\">71</div></td><td><div class=\"dni-plaintext\">69.40734</div></td><td><div class=\"dni-plaintext\">75.97925</div></td><td><div class=\"dni-plaintext\">62.835434</div></td></tr><tr><td>1</td><td><span>2015-10-09 00:00:00Z</span></td><td><div class=\"dni-plaintext\">70</div></td><td><div class=\"dni-plaintext\">73.34907</div></td><td><div class=\"dni-plaintext\">79.920975</div></td><td><div class=\"dni-plaintext\">66.77716</div></td></tr><tr><td>2</td><td><span>2015-10-10 00:00:00Z</span></td><td><div class=\"dni-plaintext\">72</div></td><td><div class=\"dni-plaintext\">72.568665</div></td><td><div class=\"dni-plaintext\">79.14057</div></td><td><div class=\"dni-plaintext\">65.99676</div></td></tr><tr><td>3</td><td><span>2015-10-11 00:00:00Z</span></td><td><div class=\"dni-plaintext\">67</div></td><td><div class=\"dni-plaintext\">65.23682</div></td><td><div class=\"dni-plaintext\">71.80872</div></td><td><div class=\"dni-plaintext\">58.66491</div></td></tr><tr><td>4</td><td><span>2015-10-12 00:00:00Z</span></td><td><div class=\"dni-plaintext\">68</div></td><td><div class=\"dni-plaintext\">67.14516</div></td><td><div class=\"dni-plaintext\">73.717064</div></td><td><div class=\"dni-plaintext\">60.57325</div></td></tr><tr><td>5</td><td><span>2015-10-13 00:00:00Z</span></td><td><div class=\"dni-plaintext\">63</div></td><td><div class=\"dni-plaintext\">64.414</div></td><td><div class=\"dni-plaintext\">70.98591</div></td><td><div class=\"dni-plaintext\">57.842094</div></td></tr><tr><td>6</td><td><span>2015-10-14 00:00:00Z</span></td><td><div class=\"dni-plaintext\">63</div></td><td><div class=\"dni-plaintext\">64.47168</div></td><td><div class=\"dni-plaintext\">71.04359</div></td><td><div class=\"dni-plaintext\">57.899773</div></td></tr><tr><td>7</td><td><span>2015-10-15 00:00:00Z</span></td><td><div class=\"dni-plaintext\">68</div></td><td><div class=\"dni-plaintext\">69.88303</div></td><td><div class=\"dni-plaintext\">76.45494</div></td><td><div class=\"dni-plaintext\">63.311127</div></td></tr><tr><td>8</td><td><span>2015-10-16 00:00:00Z</span></td><td><div class=\"dni-plaintext\">70</div></td><td><div class=\"dni-plaintext\">72.80112</div></td><td><div class=\"dni-plaintext\">79.373024</div></td><td><div class=\"dni-plaintext\">66.22921</div></td></tr><tr><td>9</td><td><span>2015-10-17 00:00:00Z</span></td><td><div class=\"dni-plaintext\">68</div></td><td><div class=\"dni-plaintext\">65.56419</div></td><td><div class=\"dni-plaintext\">72.1361</div></td><td><div class=\"dni-plaintext\">58.992287</div></td></tr><tr><td>10</td><td><span>2015-10-18 00:00:00Z</span></td><td><div class=\"dni-plaintext\">62</div></td><td><div class=\"dni-plaintext\">57.83326</div></td><td><div class=\"dni-plaintext\">64.40517</div></td><td><div class=\"dni-plaintext\">51.261353</div></td></tr><tr><td>11</td><td><span>2015-10-19 00:00:00Z</span></td><td><div class=\"dni-plaintext\">67</div></td><td><div class=\"dni-plaintext\">67.09199</div></td><td><div class=\"dni-plaintext\">73.663895</div></td><td><div class=\"dni-plaintext\">60.52008</div></td></tr><tr><td>12</td><td><span>2015-10-20 00:00:00Z</span></td><td><div class=\"dni-plaintext\">65</div></td><td><div class=\"dni-plaintext\">69.568924</div></td><td><div class=\"dni-plaintext\">76.14083</div></td><td><div class=\"dni-plaintext\">62.997017</div></td></tr><tr><td>13</td><td><span>2015-10-21 00:00:00Z</span></td><td><div class=\"dni-plaintext\">65</div></td><td><div class=\"dni-plaintext\">65.21277</div></td><td><div class=\"dni-plaintext\">71.784676</div></td><td><div class=\"dni-plaintext\">58.64086</div></td></tr><tr><td>14</td><td><span>2015-10-22 00:00:00Z</span></td><td><div class=\"dni-plaintext\">62</div></td><td><div class=\"dni-plaintext\">59.768097</div></td><td><div class=\"dni-plaintext\">66.340004</div></td><td><div class=\"dni-plaintext\">53.19619</div></td></tr><tr><td>15</td><td><span>2015-10-23 00:00:00Z</span></td><td><div class=\"dni-plaintext\">59</div></td><td><div class=\"dni-plaintext\">59.6143</div></td><td><div class=\"dni-plaintext\">66.18621</div></td><td><div class=\"dni-plaintext\">53.042393</div></td></tr><tr><td>16</td><td><span>2015-10-24 00:00:00Z</span></td><td><div class=\"dni-plaintext\">60</div></td><td><div class=\"dni-plaintext\">61.412018</div></td><td><div class=\"dni-plaintext\">67.983925</div></td><td><div class=\"dni-plaintext\">54.84011</div></td></tr><tr><td>17</td><td><span>2015-10-25 00:00:00Z</span></td><td><div class=\"dni-plaintext\">66</div></td><td><div class=\"dni-plaintext\">69.05029</div></td><td><div class=\"dni-plaintext\">75.6222</div></td><td><div class=\"dni-plaintext\">62.478386</div></td></tr><tr><td>18</td><td><span>2015-10-26 00:00:00Z</span></td><td><div class=\"dni-plaintext\">58</div></td><td><div class=\"dni-plaintext\">59.008556</div></td><td><div class=\"dni-plaintext\">65.58047</div></td><td><div class=\"dni-plaintext\">52.43665</div></td></tr><tr><td>19</td><td><span>2015-10-27 00:00:00Z</span></td><td><div class=\"dni-plaintext\">60</div></td><td><div class=\"dni-plaintext\">55.638477</div></td><td><div class=\"dni-plaintext\">62.210384</div></td><td><div class=\"dni-plaintext\">49.06657</div></td></tr><tr><td colspan=\"6\">(1992 more)</td></tr></tbody></table>"
     },
     "metadata": {},
     "output_type": "display_data"
    }
   ],
   "source": [
    "display(combined);"
   ]
  },
  {
   "cell_type": "code",
   "execution_count": 14,
   "metadata": {
    "dotnet_interactive": {
     "language": "csharp"
    }
   },
   "outputs": [],
   "source": [
    "var metrics = combined.Select(data => data.ActualTemp - data.ForecastTemp);"
   ]
  },
  {
   "cell_type": "code",
   "execution_count": 15,
   "metadata": {
    "dotnet_interactive": {
     "language": "csharp"
    }
   },
   "outputs": [],
   "source": [
    "var MAE = metrics.Average(error => Math.Abs(error)); // Mean Absolute Error\r\n",
    "var RMSE = Math.Sqrt(metrics.Average(error => Math.Pow(error, 2))); // Root Mean Squared Error"
   ]
  },
  {
   "cell_type": "code",
   "execution_count": 16,
   "metadata": {
    "dotnet_interactive": {
     "language": "csharp"
    }
   },
   "outputs": [
    {
     "name": "stdout",
     "output_type": "stream",
     "text": [
      "Evaluation Metrics\n",
      "---------------------\n",
      "Mean Absolute Error: 3.078\n",
      "Root Mean Squared Error: 5.213\n",
      "\n"
     ]
    }
   ],
   "source": [
    "Console.WriteLine(\"Evaluation Metrics\");\r\n",
    "Console.WriteLine(\"---------------------\");\r\n",
    "Console.WriteLine($\"Mean Absolute Error: {MAE:F3}\");\r\n",
    "Console.WriteLine($\"Root Mean Squared Error: {RMSE:F3}\\n\");    "
   ]
  },
  {
   "cell_type": "markdown",
   "metadata": {},
   "source": [
    "## Retrain model with all the data"
   ]
  },
  {
   "cell_type": "code",
   "execution_count": 17,
   "metadata": {
    "dotnet_interactive": {
     "language": "csharp"
    }
   },
   "outputs": [],
   "source": [
    "ITransformer maxTempModel = maxTempEstimator.Fit(dataView);"
   ]
  },
  {
   "cell_type": "markdown",
   "metadata": {},
   "source": [
    "## Save the model"
   ]
  },
  {
   "cell_type": "code",
   "execution_count": 18,
   "metadata": {
    "dotnet_interactive": {
     "language": "csharp"
    }
   },
   "outputs": [],
   "source": [
    "var maxForecastEngine = maxTempModel.CreateTimeSeriesEngine<ModelInput, ModelOutput>(mlContext);"
   ]
  },
  {
   "cell_type": "code",
   "execution_count": 19,
   "metadata": {
    "dotnet_interactive": {
     "language": "csharp"
    }
   },
   "outputs": [],
   "source": [
    "maxForecastEngine.CheckPoint(mlContext,\"WeatherForecastModel.zip\");"
   ]
  }
 ],
 "metadata": {
  "kernelspec": {
   "display_name": ".NET (C#)",
   "language": "C#",
   "name": ".net-csharp"
  },
  "language_info": {
   "file_extension": ".cs",
   "mimetype": "text/x-csharp",
   "name": "C#",
   "pygments_lexer": "csharp",
   "version": "8.0"
  },
  "orig_nbformat": 3
 },
 "nbformat": 4,
 "nbformat_minor": 2
}